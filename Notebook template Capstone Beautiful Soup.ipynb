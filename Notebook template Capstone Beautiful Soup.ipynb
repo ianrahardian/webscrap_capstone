{
 "cells": [
  {
   "cell_type": "markdown",
   "metadata": {},
   "source": [
    "# Capstone Webscrapping using BeautifulSoup\n",
    "\n",
    "(Please insert the background here )\n",
    "\n"
   ]
  },
  {
   "cell_type": "code",
   "execution_count": 1,
   "metadata": {
    "ExecuteTime": {
     "end_time": "2020-01-13T05:12:23.275508Z",
     "start_time": "2020-01-13T05:12:20.009898Z"
    }
   },
   "outputs": [],
   "source": [
    "import requests\n",
    "\n",
    "url_get = requests.get('https://news.mifx.com/kurs-valuta-asing?kurs=JPY')"
   ]
  },
  {
   "cell_type": "markdown",
   "metadata": {},
   "source": [
    "To visualize what exactly you get from the `request.get`, we can use .content so ee what we exactly get, in here i slice it so it won't make our screen full of the html we get from the page. You can delete the slicing if you want to see what we fully get."
   ]
  },
  {
   "cell_type": "code",
   "execution_count": 2,
   "metadata": {
    "ExecuteTime": {
     "end_time": "2020-01-13T05:12:23.290648Z",
     "start_time": "2020-01-13T05:12:23.277650Z"
    }
   },
   "outputs": [
    {
     "output_type": "execute_result",
     "data": {
      "text/plain": [
       "b'!DOCTYPE html PUBLIC \"-//W3C//DTD XHTML 1.0 Transitional//EN\" \"http://www.w3.org/TR/xhtml1/DTD/xhtml1-transitional.dtd\">\\n<html xmlns=\"http://www.w3.org/1999/xhtml\">\\n<head>\\n<meta http-equiv=\"Content-Language\" content=\"en,in\" />\\n<link rel=\"alternate\" href=\"https://news.mifx.com/kurs-valuta-asing.php\" hreflang=\"en-ID\" />\\n<link rel=\"canonical\" href=\"https://news.mifx.com/kurs-valuta-asing?kurs=JPY\" />\\n<base href=\"https://news.mifx.com/\" target=\"_self\" />\\n<title>Kurs Dollar | USD | Nilai Tukar Dollar Hari Ini</title>\\n<meta property=\"og:title\" content=\"Kurs Dollar | USD | Nilai Tukar Dollar Hari Ini\" />\\n<meta name=\"description\" content=\"Nilai tukar rupiah terhadap dollar hari ini berdasarkan kurs tengah Bank Indonesia. \" />\\n<meta property=\"og:description\" content=\"Nilai t'"
      ]
     },
     "metadata": {},
     "execution_count": 2
    }
   ],
   "source": [
    "url_get.content[1:777]"
   ]
  },
  {
   "cell_type": "markdown",
   "metadata": {},
   "source": [
    "As we can see we get a very unstructured and complex html, which actually contains the codes needed to show the webpages on your web browser. But we as human still confused what and where we can use that piece of code, so here where we use the beautifulsoup. Beautiful soup class will result a beautifulsoup object. Beautiful Soup transforms a complex HTML document into a complex tree of Python objects. But you’ll only ever have to deal with about four kinds of objects: `Tag`, `NavigableString`, `BeautifulSoup`, and `Comment`. But at this module we will only use `BeautifulSoup`."
   ]
  },
  {
   "cell_type": "code",
   "execution_count": 3,
   "metadata": {
    "ExecuteTime": {
     "end_time": "2020-01-13T05:12:23.808122Z",
     "start_time": "2020-01-13T05:12:23.292610Z"
    }
   },
   "outputs": [
    {
     "output_type": "stream",
     "name": "stdout",
     "text": [
      "<class 'bs4.BeautifulSoup'>\n"
     ]
    }
   ],
   "source": [
    "from bs4 import BeautifulSoup \n",
    "\n",
    "soup = BeautifulSoup(url_get.content,\"html.parser\")\n",
    "print(type(soup))"
   ]
  },
  {
   "cell_type": "markdown",
   "metadata": {},
   "source": [
    "Let's see how our beautifulsoup looks like. As you can see, the content is the same with our `get_url` object but it's tidier. Also beautifulsoup give us method to make it even more prettier, for tidyness purpouse we slice to only see first 1045 character. "
   ]
  },
  {
   "cell_type": "code",
   "execution_count": 4,
   "metadata": {
    "ExecuteTime": {
     "end_time": "2020-01-13T05:12:23.851033Z",
     "start_time": "2020-01-13T05:12:23.810086Z"
    }
   },
   "outputs": [
    {
     "output_type": "stream",
     "name": "stdout",
     "text": [
      "<!DOCTYPE html PUBLIC \"-//W3C//DTD XHTML 1.0 Transitional//EN\" \"http://www.w3.org/TR/xhtml1/DTD/xhtml1-transitional.dtd\">\n<html xmlns=\"http://www.w3.org/1999/xhtml\">\n <head>\n  <meta content=\"en,in\" http-equiv=\"Content-Language\"/>\n  <link href=\"https://news.mifx.com/kurs-valuta-asing.php\" hreflang=\"en-ID\" rel=\"alternate\"/>\n  <link href=\"https://news.mifx.com/kurs-valuta-asing?kurs=JPY\" rel=\"canonical\"/>\n  <base href=\"https://news.mifx.com/\" target=\"_self\"/>\n  <title>\n   Kurs Dollar | USD | Nilai Tukar Dollar Hari Ini\n  </title>\n  <meta content=\"Kurs Dollar | USD | Nilai Tukar Dollar Hari Ini\" property=\"og:title\"/>\n  <meta content=\"Nilai tukar rupiah terhadap dollar hari ini berdasarkan kurs tengah Bank Indonesia. \" name=\"description\"/>\n  <meta content=\"Nilai tukar rupiah terhadap dollar hari ini berdasarkan kurs tengah Bank Indonesia. \" property=\"og:description\"/>\n  <meta content=\"Broker Terbaik, Trading Forex, Trading Teregulasi, Trading Online, Monex, mifx,\" name=\"keywords\"/>\n  <meta \n"
     ]
    }
   ],
   "source": [
    "print(soup.prettify()[:1000])"
   ]
  },
  {
   "cell_type": "markdown",
   "metadata": {},
   "source": [
    "Find the key and put the key into the `.find()` Put all the exploring the right key at this cell. (please change this markdown with your explanation)"
   ]
  },
  {
   "cell_type": "code",
   "execution_count": 5,
   "metadata": {
    "ExecuteTime": {
     "end_time": "2020-01-13T05:12:23.878904Z",
     "start_time": "2020-01-13T05:12:23.854974Z"
    }
   },
   "outputs": [
    {
     "output_type": "stream",
     "name": "stdout",
     "text": [
      "<table cellpadding=\"10\" cellspacing=\"0\" class=\"centerText newsTable2\" width=\"100%\">\n <tr class=\"colorWhite fontsize14 firstRow\">\n  <td>\n   TANGGAL\n  </td>\n  <td>\n   ASK\n  </td>\n  <td>\n   BID\n  </td>\n </tr>\n <tr class=\"verySoftGreyBg\">\n  <td>\n   27 November 2020\n  </td>\n  <td>\n   136,62\n  </td>\n  <td>\n   135,23\n  </td>\n </tr>\n <tr>\n  <td>\n   26 November 2020\n  </td>\n  <td>\n   136,13\n  </td>\n  <td>\n   134,71\n  </td>\n </tr>\n <tr class=\"verySoftGreyBg\">\n  <td>\n   25 November 2020\n  </td>\n  <td>\n   136,21\n  </td>\n  <td>\n   134,82\n  </td>\n </tr>\n <tr>\n  <td>\n   24 November 2020\n  </td>\n  <td>\n   136,46\n  </td>\n  <td>\n   135,09\n  </td>\n </tr>\n <tr class=\"verySoftGreyBg\">\n  <td>\n   23 November 2020\n  </td>\n  <td>\n   137,20\n  </td>\n  <td>\n   135,82\n  </td>\n </tr>\n</table>\n\n"
     ]
    }
   ],
   "source": [
    "table = soup.find('table', class_='centerText newsTable2')\n",
    "print(table.prettify())"
   ]
  },
  {
   "cell_type": "code",
   "execution_count": 11,
   "metadata": {},
   "outputs": [
    {
     "output_type": "execute_result",
     "data": {
      "text/plain": [
       "[<tr class=\"colorWhite fontsize14 firstRow\">\n",
       " <td>TANGGAL</td>\n",
       " <td>ASK</td>\n",
       " <td>BID</td>\n",
       " </tr>, <tr class=\"verySoftGreyBg\">\n",
       " <td>27 November 2020</td>\n",
       " <td>136,62</td>\n",
       " <td>135,23</td>\n",
       " </tr>, <tr>\n",
       " <td>26 November 2020</td>\n",
       " <td>136,13</td>\n",
       " <td>134,71</td>\n",
       " </tr>, <tr class=\"verySoftGreyBg\">\n",
       " <td>25 November 2020</td>\n",
       " <td>136,21</td>\n",
       " <td>134,82</td>\n",
       " </tr>, <tr>\n",
       " <td>24 November 2020</td>\n",
       " <td>136,46</td>\n",
       " <td>135,09</td>\n",
       " </tr>, <tr class=\"verySoftGreyBg\">\n",
       " <td>23 November 2020</td>\n",
       " <td>137,20</td>\n",
       " <td>135,82</td>\n",
       " </tr>]"
      ]
     },
     "metadata": {},
     "execution_count": 11
    }
   ],
   "source": [
    "tr = table.find_all('tr')\n",
    "tr"
   ]
  },
  {
   "cell_type": "markdown",
   "metadata": {},
   "source": [
    "Do the scrapping process here (please change this markdown with your explanation)"
   ]
  },
  {
   "cell_type": "code",
   "execution_count": 40,
   "metadata": {
    "ExecuteTime": {
     "end_time": "2020-01-13T05:12:24.008256Z",
     "start_time": "2020-01-13T05:12:23.980358Z"
    }
   },
   "outputs": [
    {
     "output_type": "execute_result",
     "data": {
      "text/plain": [
       "[('27 November 2020', '136,62', '135,23'),\n",
       " ('26 November 2020', '136,13', '134,71'),\n",
       " ('25 November 2020', '136,21', '134,82'),\n",
       " ('24 November 2020', '136,46', '135,09'),\n",
       " ('23 November 2020', '137,20', '135,82')]"
      ]
     },
     "metadata": {},
     "execution_count": 40
    }
   ],
   "source": [
    "temp = [] #initiating a tuple\n",
    "\n",
    "for i in range(1, len(tr)):\n",
    "    row = table.find_all('tr')[i]\n",
    "        #use the key to take information here\n",
    "\n",
    "    date = row.find_all('td')[0].text\n",
    "    date = date.strip().replace(u'\\xa0',' ')\n",
    "    \n",
    "    ask = row.find_all('td')[1].text\n",
    "    ask = ask.strip()\n",
    "\n",
    "    bid = row.find_all('td')[2].text\n",
    "    bid = bid.strip()\n",
    "\n",
    "    temp.append((date,ask,bid))\n",
    "\n",
    "temp"
   ]
  },
  {
   "cell_type": "code",
   "execution_count": 41,
   "metadata": {},
   "outputs": [
    {
     "output_type": "execute_result",
     "data": {
      "text/plain": [
       "[('23 November 2020', '137,20', '135,82'),\n",
       " ('24 November 2020', '136,46', '135,09'),\n",
       " ('25 November 2020', '136,21', '134,82'),\n",
       " ('26 November 2020', '136,13', '134,71'),\n",
       " ('27 November 2020', '136,62', '135,23')]"
      ]
     },
     "metadata": {},
     "execution_count": 41
    }
   ],
   "source": [
    "temp[::-1]"
   ]
  },
  {
   "cell_type": "markdown",
   "metadata": {},
   "source": [
    "Put the array into dataframe"
   ]
  },
  {
   "cell_type": "code",
   "execution_count": 117,
   "metadata": {
    "ExecuteTime": {
     "end_time": "2020-01-13T05:12:41.517372Z",
     "start_time": "2020-01-13T05:12:29.130015Z"
    }
   },
   "outputs": [
    {
     "output_type": "execute_result",
     "data": {
      "text/plain": [
       "               date     ask     bid\n",
       "0  27 November 2020  136,62  135,23\n",
       "1  26 November 2020  136,13  134,71\n",
       "2  25 November 2020  136,21  134,82\n",
       "3  24 November 2020  136,46  135,09\n",
       "4  23 November 2020  137,20  135,82"
      ],
      "text/html": "<div>\n<style scoped>\n    .dataframe tbody tr th:only-of-type {\n        vertical-align: middle;\n    }\n\n    .dataframe tbody tr th {\n        vertical-align: top;\n    }\n\n    .dataframe thead th {\n        text-align: right;\n    }\n</style>\n<table border=\"1\" class=\"dataframe\">\n  <thead>\n    <tr style=\"text-align: right;\">\n      <th></th>\n      <th>date</th>\n      <th>ask</th>\n      <th>bid</th>\n    </tr>\n  </thead>\n  <tbody>\n    <tr>\n      <th>0</th>\n      <td>27 November 2020</td>\n      <td>136,62</td>\n      <td>135,23</td>\n    </tr>\n    <tr>\n      <th>1</th>\n      <td>26 November 2020</td>\n      <td>136,13</td>\n      <td>134,71</td>\n    </tr>\n    <tr>\n      <th>2</th>\n      <td>25 November 2020</td>\n      <td>136,21</td>\n      <td>134,82</td>\n    </tr>\n    <tr>\n      <th>3</th>\n      <td>24 November 2020</td>\n      <td>136,46</td>\n      <td>135,09</td>\n    </tr>\n    <tr>\n      <th>4</th>\n      <td>23 November 2020</td>\n      <td>137,20</td>\n      <td>135,82</td>\n    </tr>\n  </tbody>\n</table>\n</div>"
     },
     "metadata": {},
     "execution_count": 117
    }
   ],
   "source": [
    "import pandas as pd\n",
    "\n",
    "df = pd.DataFrame(temp, columns=('date','ask','bid'))\n",
    "df"
   ]
  },
  {
   "cell_type": "markdown",
   "metadata": {},
   "source": [
    "Do the data cleaning here (please change this markdown with your explanation)"
   ]
  },
  {
   "cell_type": "code",
   "execution_count": 122,
   "metadata": {},
   "outputs": [],
   "source": [
    "#one time run\n",
    "df['date'] = pd.to_datetime(df['date'])\n",
    "df['ask'] = df['ask'].str.replace(',','.').astype('float64')\n",
    "df['bid'] = df['bid'].str.replace(',','.').astype('float64')"
   ]
  },
  {
   "cell_type": "code",
   "execution_count": 131,
   "metadata": {},
   "outputs": [
    {
     "output_type": "execute_result",
     "data": {
      "text/plain": [
       "        date     ask     bid\n",
       "0 2020-11-27  136.62  135.23\n",
       "1 2020-11-26  136.13  134.71\n",
       "2 2020-11-25  136.21  134.82\n",
       "3 2020-11-24  136.46  135.09\n",
       "4 2020-11-23  137.20  135.82"
      ],
      "text/html": "<div>\n<style scoped>\n    .dataframe tbody tr th:only-of-type {\n        vertical-align: middle;\n    }\n\n    .dataframe tbody tr th {\n        vertical-align: top;\n    }\n\n    .dataframe thead th {\n        text-align: right;\n    }\n</style>\n<table border=\"1\" class=\"dataframe\">\n  <thead>\n    <tr style=\"text-align: right;\">\n      <th></th>\n      <th>date</th>\n      <th>ask</th>\n      <th>bid</th>\n    </tr>\n  </thead>\n  <tbody>\n    <tr>\n      <th>0</th>\n      <td>2020-11-27</td>\n      <td>136.62</td>\n      <td>135.23</td>\n    </tr>\n    <tr>\n      <th>1</th>\n      <td>2020-11-26</td>\n      <td>136.13</td>\n      <td>134.71</td>\n    </tr>\n    <tr>\n      <th>2</th>\n      <td>2020-11-25</td>\n      <td>136.21</td>\n      <td>134.82</td>\n    </tr>\n    <tr>\n      <th>3</th>\n      <td>2020-11-24</td>\n      <td>136.46</td>\n      <td>135.09</td>\n    </tr>\n    <tr>\n      <th>4</th>\n      <td>2020-11-23</td>\n      <td>137.20</td>\n      <td>135.82</td>\n    </tr>\n  </tbody>\n</table>\n</div>"
     },
     "metadata": {},
     "execution_count": 131
    }
   ],
   "source": [
    "df"
   ]
  },
  {
   "cell_type": "code",
   "execution_count": null,
   "metadata": {},
   "outputs": [],
   "source": []
  },
  {
   "cell_type": "markdown",
   "metadata": {},
   "source": [
    "Do the data visualisation here. (please change this markdown with your explanation)"
   ]
  },
  {
   "cell_type": "code",
   "execution_count": null,
   "metadata": {
    "ExecuteTime": {
     "end_time": "2020-01-13T05:20:56.208237Z",
     "start_time": "2020-01-13T05:20:56.076043Z"
    }
   },
   "outputs": [],
   "source": [
    "import matplotlib\n",
    "import matplotlib.pyplot as plt\n",
    "\n",
    "df = df.set_index('date')\n",
    "\n",
    "df.plot()"
   ]
  },
  {
   "cell_type": "markdown",
   "metadata": {},
   "source": [
    "Put your analysis and conclusion here. \n",
    "\n",
    "then put your flask dashboard link here too."
   ]
  },
  {
   "cell_type": "code",
   "execution_count": 1,
   "metadata": {},
   "outputs": [],
   "source": [
    "!pip freeze > requirements.txt"
   ]
  }
 ],
 "metadata": {
  "kernelspec": {
   "display_name": "webscrap",
   "language": "python",
   "name": "webscrap"
  },
  "language_info": {
   "codemirror_mode": {
    "name": "ipython",
    "version": 3
   },
   "file_extension": ".py",
   "mimetype": "text/x-python",
   "name": "python",
   "nbconvert_exporter": "python",
   "pygments_lexer": "ipython3",
   "version": "3.8.3-final"
  },
  "toc": {
   "base_numbering": 1,
   "nav_menu": {},
   "number_sections": true,
   "sideBar": true,
   "skip_h1_title": false,
   "title_cell": "Table of Contents",
   "title_sidebar": "Contents",
   "toc_cell": false,
   "toc_position": {},
   "toc_section_display": true,
   "toc_window_display": false
  },
  "varInspector": {
   "cols": {
    "lenName": 16,
    "lenType": 16,
    "lenVar": 40
   },
   "kernels_config": {
    "python": {
     "delete_cmd_postfix": "",
     "delete_cmd_prefix": "del ",
     "library": "var_list.py",
     "varRefreshCmd": "print(var_dic_list())"
    },
    "r": {
     "delete_cmd_postfix": ") ",
     "delete_cmd_prefix": "rm(",
     "library": "var_list.r",
     "varRefreshCmd": "cat(var_dic_list()) "
    }
   },
   "types_to_exclude": [
    "module",
    "function",
    "builtin_function_or_method",
    "instance",
    "_Feature"
   ],
   "window_display": false
  }
 },
 "nbformat": 4,
 "nbformat_minor": 2
}